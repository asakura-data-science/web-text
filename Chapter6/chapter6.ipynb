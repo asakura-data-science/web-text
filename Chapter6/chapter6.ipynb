{
  "cells": [
    {
      "cell_type": "markdown",
      "metadata": {},
      "source": [
        "# 6. 評価データ分析"
      ]
    },
    {
      "cell_type": "code",
      "execution_count": null,
      "metadata": {
        "colab": {
          "base_uri": "https://localhost:8080/"
        },
        "id": "SznjG-oZ9pzs",
        "outputId": "eba34d05-3170-4696-c6f1-61758f867d7c"
      },
      "outputs": [],
      "source": [
        "# 本章で用いるデータセットのダウンロードをします．\n",
        "from urllib.request import urlretrieve\n",
        "\n",
        "urlretrieve(\"http://files.grouplens.org/datasets/movielens/ml-100k.zip\", \"ml-100k.zip\")"
      ]
    },
    {
      "cell_type": "code",
      "execution_count": null,
      "metadata": {
        "colab": {
          "base_uri": "https://localhost:8080/"
        },
        "id": "l9vNrDzH-iuB",
        "outputId": "ec437660-b689-40f9-b26f-9089ab77bc1e"
      },
      "outputs": [],
      "source": [
        "!pip install japanize-matplotlib"
      ]
    },
    {
      "cell_type": "code",
      "execution_count": null,
      "metadata": {
        "id": "nu7LzOQ8-H1T"
      },
      "outputs": [],
      "source": [
        "# 本章で用いるデータの準備\n",
        "import numpy as np\n",
        "import pandas as pd\n",
        "from scipy import stats\n",
        "import matplotlib.pyplot as plt\n",
        "import japanize_matplotlib\n",
        "import zipfile\n",
        "\n",
        "with zipfile.ZipFile(\"./ml-100k.zip\") as f:\n",
        "    f.extractall()\n",
        "\n",
        "df = pd.read_csv(\"ml-100k/u.data\",\n",
        "                 sep=\"\\t\", header=None,\n",
        "                 usecols=[0,1,2],\n",
        "                 names=(\"user_id\", \"movie_id\", \"rating\"))"
      ]
    },
    {
      "cell_type": "code",
      "execution_count": null,
      "metadata": {
        "colab": {
          "base_uri": "https://localhost:8080/",
          "height": 35
        },
        "id": "fwpSV_uX-cGC",
        "outputId": "622fc896-6b6c-4150-9d63-addab1ea27a6"
      },
      "outputs": [],
      "source": [
        "%precision 2"
      ]
    },
    {
      "cell_type": "code",
      "execution_count": null,
      "metadata": {
        "colab": {
          "base_uri": "https://localhost:8080/",
          "height": 426
        },
        "id": "OZ_eL-0C-swA",
        "outputId": "5f24163f-773f-4ce2-e06f-f0b9d2900e4d"
      },
      "outputs": [],
      "source": [
        "# データの前処理\n",
        "import codecs\n",
        "rating = df.pivot(index=\"user_id\",\n",
        "                  columns=\"movie_id\", values=\"rating\")\n",
        "\n",
        "with codecs.open(\"ml-100k/u.item\", \"r\", \"utf-8\", errors=\"ignore\") as f:\n",
        "    items = pd.read_csv(f, sep=\"|\", header=None)\n",
        "\n",
        "MOVIE_DICT = list(items[1]) #後でmovie_id -> movie名に変換するために利用\n",
        "MOVIE_DICT = {i+1: v for i, v in enumerate(MOVIE_DICT)}\n",
        "print(f\"{rating.shape[0]}行 {rating.shape[1]}列\")\n",
        "rating = rating.rename(columns=MOVIE_DICT) # 映画IDを実際の映画名に変換してデータを表示\n",
        "rating.head()"
      ]
    },
    {
      "cell_type": "code",
      "execution_count": null,
      "metadata": {
        "colab": {
          "base_uri": "https://localhost:8080/"
        },
        "id": "TeOMwjyb-wdL",
        "outputId": "c33993ae-bc61-4e7e-9765-3c1098ac095e"
      },
      "outputs": [],
      "source": [
        "# 評点の分布を求めるコード\n",
        "print(f\"評点の平均: {df['rating'].mean():.2f} 点\")\n",
        "print(f\"1点と評価された回数: {len(df[df['rating']==1])} 回\")\n",
        "print(f\"2点と評価された回数: {len(df[df['rating']==2])} 回\")\n",
        "print(f\"3点と評価された回数: {len(df[df['rating']==3])} 回\")\n",
        "print(f\"4点と評価された回数: {len(df[df['rating']==4])} 回\")\n",
        "print(f\"5点と評価された回数: {len(df[df['rating']==5])} 回\")"
      ]
    },
    {
      "cell_type": "code",
      "execution_count": null,
      "metadata": {
        "colab": {
          "base_uri": "https://localhost:8080/",
          "height": 448
        },
        "id": "xGLk_ZKS-ySH",
        "outputId": "541753b5-1bd8-4dea-aa95-657b23a4e2d3"
      },
      "outputs": [],
      "source": [
        "# 1人のユーザが評価した映画数のヒストグラム\n",
        "plt.xlabel(\"評価数\")\n",
        "plt.ylabel(\"ユーザ数\")\n",
        "plt.hist(rating.count(axis=1), bins=50)\n",
        "plt.show()"
      ]
    },
    {
      "cell_type": "code",
      "execution_count": null,
      "metadata": {
        "colab": {
          "base_uri": "https://localhost:8080/",
          "height": 175
        },
        "id": "UwDBcZIk-z9w",
        "outputId": "38db5603-597b-4afe-da5b-9bcc849c88dc"
      },
      "outputs": [],
      "source": [
        "# 例題をDataFrameとして作成する\n",
        "data = [\n",
        "{\"商品1\": 3.0,\"商品2\": 1.0,\"商品3\": 4.0,\"商品4\": 5.0, \"商品5\": np.nan},\n",
        "{\"商品1\": 3.0,\"商品2\": 2,\"商品3\": 4,\"商品4\": 5, \"商品5\": 5},\n",
        "{\"商品1\": 5,\"商品2\": 1,\"商品3\": 3,\"商品4\": 2, \"商品5\": 2},\n",
        "{\"商品1\": 2,\"商品2\": 1,\"商品3\": 3,\"商品4\": 2, \"商品5\": 3}\n",
        "]\n",
        "df_ex = pd.DataFrame(data, index=[\"ユーザ1\", \"ユーザ2\", \"ユーザ3\", \"ユーザ4\"])\n",
        "df_ex.head()"
      ]
    },
    {
      "cell_type": "code",
      "execution_count": null,
      "metadata": {
        "colab": {
          "base_uri": "https://localhost:8080/"
        },
        "id": "MgZ35FbF_v26",
        "outputId": "b7810614-ca64-42bb-bc6e-3450aaf19605"
      },
      "outputs": [],
      "source": [
        "# 相関係数を計算する\n",
        "corr = df_ex.loc[[\"ユーザ2\",\"ユーザ3\"]].corrwith(df_ex.loc[\"ユーザ1\"],axis=1)\n",
        "print(f\"user1とuser2の相関係数:{corr['ユーザ2']:.2f}\")\n",
        "print(f\"user1とuser3の相関係数:{corr['ユーザ3']:.2f}\")"
      ]
    },
    {
      "cell_type": "code",
      "execution_count": null,
      "metadata": {
        "colab": {
          "base_uri": "https://localhost:8080/"
        },
        "id": "yyM5FRMa_xlW",
        "outputId": "ec3f4827-0b4b-4aba-be06-7d2486a8992f"
      },
      "outputs": [],
      "source": [
        "# 各ユーザの評点の平均を求める\n",
        "df_ex.mean(axis=1)"
      ]
    },
    {
      "cell_type": "code",
      "execution_count": null,
      "metadata": {
        "colab": {
          "base_uri": "https://localhost:8080/",
          "height": 269
        },
        "id": "KZr1EwrL_4aP",
        "outputId": "6d89cb51-7846-4283-de65-9dcf40b3304f"
      },
      "outputs": [],
      "source": [
        "target_user = 1 # 予測対象のユーザID\n",
        "print(f\"評価した映画数 {rating.loc[target_user,:].count()} 件\")\n",
        "display(rating.loc[target_user,:].dropna()) # 実際の評点を表示"
      ]
    },
    {
      "cell_type": "code",
      "execution_count": null,
      "metadata": {
        "colab": {
          "base_uri": "https://localhost:8080/"
        },
        "id": "aXsONEZo_6pZ",
        "outputId": "b1be5c93-5cdc-469f-fec7-e49bd776cf8e"
      },
      "outputs": [],
      "source": [
        "# 未評価の映画を10件抽出する\n",
        "unrated_movies = rating.loc[target_user][rating.loc[target_user].isnull()].index\n",
        "unrated_movies = unrated_movies[:10] #10件抽出\n",
        "print(list(unrated_movies)) #ユーザ1が未評価の映画10件"
      ]
    },
    {
      "cell_type": "code",
      "execution_count": null,
      "metadata": {
        "id": "xxnyysyS_7_d"
      },
      "outputs": [],
      "source": [
        "# 評価対象の映画を評価しているユーザ集合を取得する\n",
        "target_movie = \"Heat (1995)\" # 評価対象の映画名\n",
        "target_users = rating.dropna(subset=[target_movie],\n",
        "                             axis=0) # 評価対象の映画名を評価済みのユーザ"
      ]
    },
    {
      "cell_type": "code",
      "execution_count": null,
      "metadata": {
        "colab": {
          "base_uri": "https://localhost:8080/"
        },
        "id": "VsT7BsQF_9t3",
        "outputId": "b255e257-a0d3-47bf-c5f1-38e5c5fe599b"
      },
      "outputs": [],
      "source": [
        "# 類似ユーザを抽出する．\n",
        "corrs = target_users.corrwith(rating.loc[target_user], axis=1)\n",
        "similar_users = corrs.sort_values(ascending=False)[:20] #相関係数の降順でユーザをランキング\n",
        "similar_users.head() # 上位5名表示"
      ]
    },
    {
      "cell_type": "code",
      "execution_count": null,
      "metadata": {
        "colab": {
          "base_uri": "https://localhost:8080/",
          "height": 161
        },
        "id": "qleUBGdd__Q7",
        "outputId": "7d78b3a3-2020-4fe9-d87d-64e1d69b8436"
      },
      "outputs": [],
      "source": [
        "# 相関係数が最も高いユーザとの評価を比べる\n",
        "rating.loc[[target_user, 754]].dropna(how=\"any\", axis=1)"
      ]
    },
    {
      "cell_type": "code",
      "execution_count": null,
      "metadata": {
        "colab": {
          "base_uri": "https://localhost:8080/"
        },
        "id": "uwaO0o9CACwE",
        "outputId": "62d7d2cc-461e-4e22-a35f-f396f8093f34"
      },
      "outputs": [],
      "source": [
        "# 評点を予測する\n",
        "mean_score = rating.loc[target_user].mean() #ユーザ1の評点の平均\n",
        "score = 0.0\n",
        "for user_id, cor in similar_users.iteritems():\n",
        "    score += cor * (rating[target_movie][user_id] - rating.loc[user_id].mean())\n",
        "score = score / np.sum(similar_users) # 類似ユーザの類似度の合計で割る\n",
        "score += mean_score # 最後に対象ユーザの平均評点を加える\n",
        "print(\"ユーザID {} の平均評点 = {:.2f} 点\".format(target_user, mean_score))\n",
        "print(\"ユーザID {} の 映画 {} に対する予測 = {:.2f} 点\".format(target_user, target_movie, score))"
      ]
    },
    {
      "cell_type": "code",
      "execution_count": null,
      "metadata": {
        "id": "Ns8IosPkAE57"
      },
      "outputs": [],
      "source": [
        "# 一連の流れを関数にまとめた\n",
        "def predict_score(rating, target_user_id, target_movie_id, k=20):\n",
        "    mean_score = rating.loc[target_user].mean() # 予測したいユーザの評点の平均\n",
        "    target_users = rating.dropna(subset=[target_movie_id], axis=0)\n",
        "    corrs = target_users.corrwith(rating.loc[target_user], axis=1)\n",
        "    similar_users = corrs[corrs > 0].sort_values(ascending=False)[:k]\n",
        "    score = 0\n",
        "    if len(similar_users) == 0: # 類似ユーザがいない場合は評点を0点とする\n",
        "        return 0\n",
        "    # 本書では .iteritems()をしていますが colab版では.items()を使用しています\n",
        "    for user_id, cor in similar_users.items():\n",
        "        score += cor * (rating[target_movie_id][user_id] - rating.loc[user_id].mean())\n",
        "    score = score / np.sum(similar_users)\n",
        "    score += mean_score\n",
        "    return score"
      ]
    },
    {
      "cell_type": "code",
      "execution_count": null,
      "metadata": {
        "colab": {
          "base_uri": "https://localhost:8080/"
        },
        "id": "wasrm939AeUs",
        "outputId": "f4ed9703-9315-4a2b-f173-ce0d49d7f752"
      },
      "outputs": [],
      "source": [
        "# 残りの未評価の映画について評点を予測する\n",
        "scores = {}\n",
        "for movie in unrated_movies:\n",
        "    score = predict_score(rating, target_user, movie)\n",
        "    scores[movie] = score\n",
        "for movie, score in pd.Series(scores).sort_values(ascending=False).items():\n",
        "    print(f\"{movie}: {score:.2f} 点\")"
      ]
    },
    {
      "cell_type": "code",
      "execution_count": null,
      "metadata": {
        "id": "05EIr6eQAgLw"
      },
      "outputs": [],
      "source": [
        "# 評点の補正\n",
        "adjusted_rating = rating.apply(lambda x: x - x.mean(), axis=1) #ユーザごとに，そのユーザの評点の平均を引く"
      ]
    },
    {
      "cell_type": "code",
      "execution_count": null,
      "metadata": {
        "id": "Ds2Dh7zxA65h"
      },
      "outputs": [],
      "source": [
        "# 二つの映画のコサイン類似度を求める\n",
        "from sklearn.metrics.pairwise import cosine_similarity\n",
        "\n",
        "def cos_sim(movie_a, movie_b, min_user=1):\n",
        "    t = pd.DataFrame([movie_a,movie_b]).dropna(how=\"any\", axis=1) #a,b両者とも評価しているユーザのデータだけ抽出\n",
        "    if len(t.columns) <= min_user: # 共通して評価したユーザがk人以下であれば-1を返す\n",
        "        return -1\n",
        "    return cosine_similarity([t.iloc[0]], [t.iloc[1]])[0][0]"
      ]
    },
    {
      "cell_type": "code",
      "execution_count": null,
      "metadata": {
        "colab": {
          "base_uri": "https://localhost:8080/"
        },
        "id": "ABZC4qgZA9J7",
        "outputId": "ee94189e-614d-4763-bf99-0072f7701267"
      },
      "outputs": [],
      "source": [
        "# 評価済みの映画を求める\n",
        "rated_movies = rating.loc[:, ~rating.loc[target_user].isnull()].columns # ユーザ1が評価済みの映画のみ抽出\n",
        "rated_movies"
      ]
    },
    {
      "cell_type": "code",
      "execution_count": null,
      "metadata": {
        "colab": {
          "base_uri": "https://localhost:8080/"
        },
        "id": "V5yP5o_0A-7a",
        "outputId": "788f380c-7c94-4839-becd-1b2286613d1f"
      },
      "outputs": [],
      "source": [
        "# 評価済みのアイテムとの類似度を求める．\n",
        "cos = lambda x: cos_sim(x, adjusted_rating.loc[:, target_movie])\n",
        "sim = adjusted_rating[rated_movies].apply(cos) # ユーザ1が評価済みのアイテム全てについてコサイン類似度を計算\n",
        "sim.sort_values(ascending=False) # コサイン類似度順に映画を表示"
      ]
    },
    {
      "cell_type": "code",
      "execution_count": null,
      "metadata": {
        "id": "3vpCks03BBQZ"
      },
      "outputs": [],
      "source": [
        "# アイテムベースの協調フィルタリングに基づく評点予測を行う関数\n",
        "\n",
        "def _predict_score_by_item_based_cf(adjusted_rating, target_user, mean_score, similar_items):\n",
        "    score = 0.0\n",
        "    if len(similar_items) == 0:\n",
        "        return 0.0\n",
        "    total_sim = np.sum(similar_items)\n",
        "    for movie_id, sim in similar_items.items():\n",
        "        score += sim * adjusted_rating[movie_id][target_user]\n",
        "    score = score / total_sim\n",
        "    score += mean_score\n",
        "    return score\n",
        "\n",
        "\n",
        "def predict_score_by_item_based_cf(adjusted_rating, target_user, target_movie, k=5):\n",
        "    cos = lambda x: cos_sim(x, adjusted_rating.loc[:, target_movie])\n",
        "    rated_movies = rating.loc[:, ~rating.loc[target_user].isnull()].columns # ユーザが評価済みの映画のみ抽出\n",
        "    similar_items = adjusted_rating[rated_movies].apply(cos).sort_values(ascending=False)[:k] #類似度の高い映画を抽出\n",
        "    mean_score = rating.loc[target_user].mean()\n",
        "    score = _predict_score_by_item_based_cf(adjusted_rating, target_user, mean_score, similar_items)\n",
        "    return score"
      ]
    },
    {
      "cell_type": "code",
      "execution_count": null,
      "metadata": {
        "colab": {
          "base_uri": "https://localhost:8080/",
          "height": 35
        },
        "id": "ORl23rQ-Cd6W",
        "outputId": "434e3ca3-83c9-4a61-84dc-6cf792116dd9"
      },
      "outputs": [],
      "source": [
        "target_movie"
      ]
    },
    {
      "cell_type": "code",
      "execution_count": null,
      "metadata": {
        "colab": {
          "base_uri": "https://localhost:8080/"
        },
        "id": "Qyx-ZbPKCgog",
        "outputId": "75538c6f-7506-4d21-d75a-ab474a9f9dc6"
      },
      "outputs": [],
      "source": [
        "score = predict_score_by_item_based_cf(adjusted_rating, target_user, target_movie, k=5)\n",
        "print(score)\n",
        "print(\"ユーザ {} の 映画 {}:に対する予測評点 = {} 点\".format(target_user, target_movie,  score))"
      ]
    },
    {
      "cell_type": "code",
      "execution_count": null,
      "metadata": {
        "colab": {
          "base_uri": "https://localhost:8080/"
        },
        "id": "Y1vjQvuECjjg",
        "outputId": "426b4f93-0aab-465e-dcc9-5ff8f38a2228"
      },
      "outputs": [],
      "source": [
        "scores = {}\n",
        "for movie in unrated_movies:\n",
        "    print(movie)\n",
        "    score = predict_score_by_item_based_cf(adjusted_rating, target_user, movie)\n",
        "    scores[movie] = score\n",
        "\n",
        "for movie, score in pd.Series(scores).sort_values(ascending=False).items():\n",
        "    print(f\"{movie}: {score:.2f} 点\")\n"
      ]
    },
    {
      "cell_type": "code",
      "execution_count": null,
      "metadata": {
        "colab": {
          "base_uri": "https://localhost:8080/",
          "height": 597
        },
        "id": "4bBvd5KjDz1E",
        "outputId": "caf043a8-3595-4217-adeb-11b0b94c4552"
      },
      "outputs": [],
      "source": [
        "M = rating.copy()\n",
        "M"
      ]
    },
    {
      "cell_type": "code",
      "execution_count": null,
      "metadata": {
        "id": "mKY7siPLECnQ"
      },
      "outputs": [],
      "source": [
        "# 欠損値を0で埋める\n",
        "M = M.fillna(0)"
      ]
    },
    {
      "cell_type": "code",
      "execution_count": null,
      "metadata": {
        "id": "sJgS7_oLEEfQ"
      },
      "outputs": [],
      "source": [
        "# NMFによる行列分解\n",
        "from sklearn.decomposition import NMF\n",
        "nmf = NMF(n_components=20, max_iter=500, init='random', random_state=0)\n",
        "U = nmf.fit_transform(M)\n",
        "V = nmf.components_;"
      ]
    },
    {
      "cell_type": "code",
      "execution_count": null,
      "metadata": {
        "colab": {
          "base_uri": "https://localhost:8080/"
        },
        "id": "c8XslYUgEGV3",
        "outputId": "ce2d2353-e05a-47d1-e82b-acd32c16b19d"
      },
      "outputs": [],
      "source": [
        "# 近似された評価値行列を確認する\n",
        "M_r = np.dot(U, V)\n",
        "print(M_r.shape)\n",
        "M_r"
      ]
    },
    {
      "cell_type": "code",
      "execution_count": null,
      "metadata": {
        "colab": {
          "base_uri": "https://localhost:8080/"
        },
        "id": "ZzPQtrdFEJoT",
        "outputId": "c5b23261-033d-442e-8a0f-de2906b879b0"
      },
      "outputs": [],
      "source": [
        "# k番目の潜在因子に対して高い値を持つ映画を表示する\n",
        "k=13\n",
        "print(rating.columns[np.argsort(V[k-1,:])[::-1]][:10].tolist())"
      ]
    },
    {
      "cell_type": "code",
      "execution_count": null,
      "metadata": {
        "id": "FLM9wmKNEMLr"
      },
      "outputs": [],
      "source": [
        "# NMFに基づく評点の予測\n",
        "def predict_scores_by_nmf(target_user):\n",
        "    scores = M_r[target_user-1] # target_userの全映画に対する評点\n",
        "    rated_movies = rating.loc[:, (rating.loc[target_user].notnull())].dropna().columns ## target_userがすでに評価している映画のリスト\n",
        "    ranking = np.argsort(scores)[::-1] #予測された評点の高い映画IDのリストを求める\n",
        "    results = []\n",
        "    for i in ranking:\n",
        "        movie_id = i + 1\n",
        "        if movie_id in rated_movies: #すでに評価した映画だったらskip\n",
        "            continue\n",
        "        else:\n",
        "            results.append((movie_id, scores[i]))\n",
        "    return results"
      ]
    },
    {
      "cell_type": "code",
      "execution_count": null,
      "metadata": {
        "colab": {
          "base_uri": "https://localhost:8080/"
        },
        "id": "iEGB5eXzEiPG",
        "outputId": "fc2ab81b-e992-40fe-a72f-29c70e0f7281"
      },
      "outputs": [],
      "source": [
        "# NMFで予測された評点の高い映画を表示する\n",
        "scores = predict_scores_by_nmf(target_user)\n",
        "for i, score in scores[:10]:\n",
        "    movie_name = MOVIE_DICT[i]\n",
        "    print(f\"映画:{movie_name}, 評点:{score:.2f}\")"
      ]
    },
    {
      "cell_type": "code",
      "execution_count": null,
      "metadata": {
        "id": "1bC3KIDsEjtv"
      },
      "outputs": [],
      "source": []
    }
  ],
  "metadata": {
    "colab": {
      "provenance": []
    },
    "kernelspec": {
      "display_name": "Python 3",
      "name": "python3"
    },
    "language_info": {
      "name": "python"
    }
  },
  "nbformat": 4,
  "nbformat_minor": 0
}
