{
  "cells": [
    {
      "cell_type": "markdown",
      "metadata": {},
      "source": [
        "# 5. ネットワーク分析\n",
        "## 5.4 分析事例: Webサイトの行動履歴"
      ]
    },
    {
      "cell_type": "markdown",
      "metadata": {},
      "source": [
        "### 5.4.1 準備\n"
      ]
    },
    {
      "cell_type": "code",
      "execution_count": null,
      "metadata": {},
      "outputs": [],
      "source": [
        "# コード5.1 必要なモジュールの読み込み\n",
        "import networkx as nx\n",
        "import gzip\n",
        "from networkx.algorithms.community.centrality import girvan_newman\n",
        "from networkx.algorithms.community import greedy_modularity_communities\n",
        "\n",
        "%precision 4"
      ]
    },
    {
      "cell_type": "markdown",
      "metadata": {},
      "source": [
        "準備として[Wikipedia Clickstreamデータセット](https://dumps.wikimedia.org/other/clickstream/readme.html)から `clickstream-jawiki-2022-01.tsv.gz`をダウンロードしてください．  \n",
        "以下のコードは，ダウンロードしたファイルをこのノートブックからアクセスできる場所に置いてから実行してください．\n",
        "- Google Colaboratoryを使用する場合は2章を参考にしてください．\n",
        "- パソコン上のjupyterで実行する場合はこのipynbと同じフォルダに置いてください．"
      ]
    },
    {
      "cell_type": "code",
      "execution_count": null,
      "metadata": {},
      "outputs": [],
      "source": [
        "PATH = \"./\"  # ファイルの置き場所"
      ]
    },
    {
      "cell_type": "code",
      "execution_count": null,
      "metadata": {},
      "outputs": [],
      "source": [
        "# コード5.2 tsv.gzからの無向グラフの作成\n",
        "g = nx.Graph()\n",
        "with gzip.open(PATH + \"clickstream-jawiki-2022-01.tsv.gz\", mode=\"rt\", encoding=\"utf-8\") as f:\n",
        "    for line in f:\n",
        "        src, dst, kind, num = line.strip().split(\"\\t\")\n",
        "        num = int(num)\n",
        "        if kind == \"link\":\n",
        "            g.add_edge(src, dst)\n",
        "print(g)"
      ]
    },
    {
      "cell_type": "code",
      "execution_count": null,
      "metadata": {},
      "outputs": [],
      "source": [
        "# コード5.3\n",
        "# 圧縮していないtsvファイルを直接読み込む場合は以下のコメントアウトを外して実行してください\n",
        "\n",
        "# g_tsv = nx.Graph()\n",
        "# with open(PATH + \"clickstream-jawiki-2022-01.tsv\", mode=\"r\", encoding=\"utf-8\") as f:\n",
        "#     for line in f:\n",
        "#         src, dst, kind, num = line.strip().split(\"\\t\")\n",
        "#         num = int(num)\n",
        "#         if kind == \"link\":\n",
        "#             g_tsv.add_edge(src, dst)\n",
        "# print(g_tsv)"
      ]
    },
    {
      "cell_type": "code",
      "execution_count": null,
      "metadata": {},
      "outputs": [],
      "source": [
        "# コード5.4 tsv.gzからの有向グラフの作成\n",
        "g_directed = nx.DiGraph()\n",
        "with gzip.open(PATH + \"clickstream-jawiki-2022-01.tsv.gz\", mode=\"rt\", encoding=\"utf-8\") as f:\n",
        "    for line in f:\n",
        "        src, dst, kind, num = line.strip().split('\\t')\n",
        "        num = int(num)\n",
        "        if kind == \"link\":\n",
        "            g_directed.add_edge(src, dst)\n",
        "print(g_directed)"
      ]
    },
    {
      "cell_type": "code",
      "execution_count": null,
      "metadata": {},
      "outputs": [],
      "source": [
        "# コード5.5 グラフにノードが含まれているかの確認\n",
        "print(\"データサイエンス\" in g)\n",
        "print(\"データ科学\" in g)"
      ]
    },
    {
      "cell_type": "code",
      "execution_count": null,
      "metadata": {},
      "outputs": [],
      "source": [
        "# コード5.6 「データサイエンス」を中心としたエゴグラフの作成\n",
        "g_ds = nx.ego_graph(g, \"データサイエンス\", radius=2, center=True)\n",
        "print(g_ds)"
      ]
    },
    {
      "cell_type": "code",
      "execution_count": null,
      "metadata": {},
      "outputs": [],
      "source": [
        "# コード5.7 エゴグラフに「データサイエンス」が含まれているかの確認\n",
        "print(\"データサイエンス\" in g_ds )"
      ]
    },
    {
      "cell_type": "markdown",
      "metadata": {},
      "source": [
        "### 5.4.2 ノードの分析"
      ]
    },
    {
      "cell_type": "code",
      "execution_count": null,
      "metadata": {},
      "outputs": [],
      "source": [
        "# コード5.8 次数中心性の算出\n",
        "cent_d = nx.degree_centrality(g_ds)"
      ]
    },
    {
      "cell_type": "code",
      "execution_count": null,
      "metadata": {},
      "outputs": [],
      "source": [
        "# コード5.9 次数中心性の上位10件の表示\n",
        "display(sorted(cent_d.items(), key=lambda t: -t[1])[:10])"
      ]
    },
    {
      "cell_type": "code",
      "execution_count": null,
      "metadata": {},
      "outputs": [],
      "source": [
        "# コード5.10 近接中心性の算出と上位10件の表示\n",
        "cent_c = nx.closeness_centrality(g_ds)\n",
        "display(sorted(cent_c.items(), key=lambda t: -t[1])[:10])"
      ]
    },
    {
      "cell_type": "code",
      "execution_count": null,
      "metadata": {},
      "outputs": [],
      "source": [
        "# コード5.11 媒介中心性の算出と上位10件の表示\n",
        "cent_b = nx.betweenness_centrality(g_ds)\n",
        "display(sorted(cent_b.items(), key=lambda t: -t[1])[:10])"
      ]
    },
    {
      "cell_type": "code",
      "execution_count": null,
      "metadata": {},
      "outputs": [],
      "source": [
        "# コード5.12 PageRankの算出と上位10件の表示\n",
        "pr = nx.pagerank(g_ds, alpha=0.85)\n",
        "display(sorted(pr.items(), key=lambda t: -t[1])[:10])"
      ]
    },
    {
      "cell_type": "code",
      "execution_count": null,
      "metadata": {},
      "outputs": [],
      "source": [
        "# コード5.13 Personalized PageRankの算出と上位10件の表示\n",
        "pr_biased = nx.pagerank(g_ds, alpha=0.85, personalization={\"統計学\": 0.1})\n",
        "display(sorted(pr_biased.items(), key=lambda t: -t[1])[:10])"
      ]
    },
    {
      "cell_type": "code",
      "execution_count": null,
      "metadata": {},
      "outputs": [],
      "source": [
        "# コード5.14 有向グラフからのエゴグラフの作成\n",
        "g_ds_directed = nx.ego_graph(g_directed, \"データサイエンス\", radius=2, center=True, undirected=True)\n",
        "print(g_ds_directed)"
      ]
    },
    {
      "cell_type": "code",
      "execution_count": null,
      "metadata": {},
      "outputs": [],
      "source": [
        "# コード5.15 有向グラフでのPageRankの算出と上位10件の表示\n",
        "pr_biased = nx.pagerank(g_ds_directed, alpha=0.85, personalization={\"統計学\": 0.1})\n",
        "display(sorted(pr_biased.items(), key=lambda t: -t[1])[:10])"
      ]
    },
    {
      "cell_type": "markdown",
      "metadata": {},
      "source": [
        "### 5.4.3 コミュニティ抽出"
      ]
    },
    {
      "cell_type": "code",
      "execution_count": null,
      "metadata": {},
      "outputs": [],
      "source": [
        "# コード5.16 Girvan-Newmanアルゴリズムによるコミュニティ抽出\n",
        "n = 4\n",
        "comp = girvan_newman(g_ds)\n",
        "for i, clusters in zip(range(n-1), comp):\n",
        "    pass\n",
        "for c in sorted(clusters, key=len, reverse=True):\n",
        "    print(len(c), sorted(c, key=lambda el: -cent_d[el])[:5])"
      ]
    },
    {
      "cell_type": "code",
      "execution_count": null,
      "metadata": {},
      "outputs": [],
      "source": [
        "# コード5.17 モジュラリティに基づくグラフクラスタリングによるコミュニティ抽出\n",
        "clusters = greedy_modularity_communities(g_ds)\n",
        "for c in clusters:\n",
        "    print(len(c), sorted(c, key=lambda el: -cent_d[el])[:5])"
      ]
    }
  ],
  "metadata": {},
  "nbformat": 4,
  "nbformat_minor": 0
}