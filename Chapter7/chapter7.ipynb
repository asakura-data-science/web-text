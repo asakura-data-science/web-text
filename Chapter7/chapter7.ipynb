{
  "cells": [
    {
      "cell_type": "markdown",
      "metadata": {},
      "source": [
        "# 7. Webからのデータの収集"
      ]
    },
    {
      "cell_type": "code",
      "execution_count": null,
      "metadata": {
        "id": "3ykkznjy6D7a"
      },
      "outputs": [],
      "source": [
        "# 本章で用いるデータ（サンプルサイトのChapter7/in/ および Chapter7/out/）を取得します．\n",
        "from urllib.request import urlretrieve\n",
        "import zipfile\n",
        "\n",
        "\n",
        "urlretrieve(\"https://github.com/asakura-data-science/web-text/raw/main/Chapter7/chapter7.zip\", \"chapter7.zip\")\n",
        "\n",
        "with zipfile.ZipFile(\"./chapter7.zip\") as f:\n",
        "    f.extractall()"
      ]
    },
    {
      "cell_type": "code",
      "execution_count": null,
      "metadata": {
        "id": "DWzhDUWj4lS_"
      },
      "outputs": [],
      "source": [
        "# 必要なモジュールの読み込み\n",
        "import pandas as pd\n",
        "from bs4 import BeautifulSoup\n",
        "import requests\n",
        "import json\n",
        "from pprint import pprint\n",
        "from IPython.display import HTML"
      ]
    },
    {
      "cell_type": "code",
      "execution_count": null,
      "metadata": {
        "id": "4rhNPTdt4-bI"
      },
      "outputs": [],
      "source": [
        "# Beautiful Soupを用いたHTMLファイルの読み込み\n",
        "with open(\"in/ex1.html\", encoding = \"utf-8\") as f:\n",
        "    # HTMLファイル中のテキストを取得\n",
        "    html = f.read()\n",
        "soup = BeautifulSoup(html, \"html.parser\")"
      ]
    },
    {
      "cell_type": "code",
      "execution_count": null,
      "metadata": {
        "colab": {
          "base_uri": "https://localhost:8080/"
        },
        "id": "V7nvs5am5Dwa",
        "outputId": "b562dbea-ec62-43aa-9a14-2411ddbc05b9"
      },
      "outputs": [],
      "source": [
        "# li要素をすべて取得し，テキストを表示する\n",
        "# li要素を全て取得\n",
        "li_list = soup.find_all(\"li\")\n",
        "for li in li_list:\n",
        "    # .text とすることで要素のテキストだけ抽出できる\n",
        "    print(li.text)"
      ]
    },
    {
      "cell_type": "code",
      "execution_count": null,
      "metadata": {
        "colab": {
          "base_uri": "https://localhost:8080/"
        },
        "id": "oAWM4XQg66hN",
        "outputId": "309849e8-547b-490f-d9cd-56d2e031aea4"
      },
      "outputs": [],
      "source": [
        "# クラス名に language と書かれた divタグを全て取得する\n",
        "div_list = soup.find_all(\"div\", class_=\"language\")\n",
        "print(div_list)"
      ]
    },
    {
      "cell_type": "code",
      "execution_count": null,
      "metadata": {
        "colab": {
          "base_uri": "https://localhost:8080/"
        },
        "id": "I-dVdYg668Pl",
        "outputId": "626a0f19-6cfa-4587-c9ac-5f30a7d59269"
      },
      "outputs": [],
      "source": [
        "# div要素内のli要素のテキストを出力する\n",
        "\n",
        "# div_list[0]内のli要素をすべて取得\n",
        "li_list = div_list[0].find_all(\"li\")\n",
        "for li in li_list:\n",
        "    print(li.text)"
      ]
    },
    {
      "cell_type": "code",
      "execution_count": null,
      "metadata": {
        "colab": {
          "base_uri": "https://localhost:8080/"
        },
        "id": "M2ydbdJt6974",
        "outputId": "89b54424-a4d1-44a6-a97a-da8fa2a60ead"
      },
      "outputs": [],
      "source": [
        "# 演習問題回答\n",
        "with open(\"in/ex1.html\", encoding = \"utf-8\") as f:\n",
        "    html = f.read()\n",
        "soup = BeautifulSoup(html, \"html.parser\")\n",
        "for li in soup.find_all(\"div\", class_=\"sushi\")[0].find_all(\"h2\"):\n",
        "    print(li.text)"
      ]
    },
    {
      "cell_type": "code",
      "execution_count": null,
      "metadata": {
        "colab": {
          "base_uri": "https://localhost:8080/"
        },
        "id": "Eb9WAFda6_-M",
        "outputId": "ecb1d246-8d85-452f-b354-5a4d20160864"
      },
      "outputs": [],
      "source": [
        "# 演習問題回答\n",
        "with open(\"in/ex1.html\", encoding = \"utf-8\") as f:\n",
        "    html = f.read()\n",
        "soup = BeautifulSoup(html, \"html.parser\")\n",
        "p_list = soup.find_all(\"div\", class_=\"sushi\")\n",
        "li_list = p_list[0].find_all(\"li\")\n",
        "for li in li_list:\n",
        "    print(li.text)"
      ]
    },
    {
      "cell_type": "code",
      "execution_count": null,
      "metadata": {
        "colab": {
          "base_uri": "https://localhost:8080/"
        },
        "id": "cf3lqVZD7GSR",
        "outputId": "56fccaa8-0e5a-4edc-bd6e-6edeea9589a0"
      },
      "outputs": [],
      "source": [
        "# Webページをダウンロードする\n",
        "import requests\n",
        "# 取得したいウェブページのURL\n",
        "url = \"https://rerank-lab.org/lectures/programming3-2020/ex2.html\"\n",
        "response = requests.get(url)\n",
        "response.encoding = response.apparent_encoding # HTMLの文字コードを取得\n",
        "# 取得したHTMLの中身を表示\n",
        "print(response.text)\n",
        "# 取得したHTMLをex2.htmlという名前で保存\n",
        "with open(\"out/ex2.html\", \"wt\", encoding=response.encoding) as f:\n",
        "    f.write(response.text)"
      ]
    },
    {
      "cell_type": "code",
      "execution_count": null,
      "metadata": {
        "colab": {
          "base_uri": "https://localhost:8080/"
        },
        "id": "J_bKoPz37Pti",
        "outputId": "c33e8462-8264-45b0-9380-e002827661e3"
      },
      "outputs": [],
      "source": [
        "# 講義名一覧を取得する\n",
        "with open(\"out/ex2.html\", \"r\", encoding=\"utf-8\") as f:\n",
        "    html = f.read()\n",
        "soup = BeautifulSoup(html, \"html.parser\")\n",
        "# class属性の属性値がlectureとなっているspan要素を取得\n",
        "for span in soup.find_all(\"span\", class_=\"lecture\"):\n",
        "    print(span.text)"
      ]
    },
    {
      "cell_type": "code",
      "execution_count": null,
      "metadata": {
        "id": "7t-6r3MQ78S3"
      },
      "outputs": [],
      "source": [
        "# JSONを読み込む\n",
        "with open(\"in/ex2.json\", \"r\", encoding=\"utf-8\") as f:\n",
        "    data = json.load(f)"
      ]
    },
    {
      "cell_type": "code",
      "execution_count": null,
      "metadata": {
        "colab": {
          "base_uri": "https://localhost:8080/"
        },
        "id": "p5Cf03Sy8BE7",
        "outputId": "5222b4ba-07e0-4f20-d3c3-2ada25abaee5"
      },
      "outputs": [],
      "source": [
        "# JSONデータ内の情報を表示する\n",
        "print(data[\"名前\"])\n",
        "for lecture in data[\"担当科目\"]:\n",
        "    print(lecture[\"科目名\"])"
      ]
    },
    {
      "cell_type": "code",
      "execution_count": null,
      "metadata": {
        "colab": {
          "base_uri": "https://localhost:8080/"
        },
        "id": "3ZMggbWU8E0M",
        "outputId": "9fb4238a-6e84-4e71-aad5-2d18055be005"
      },
      "outputs": [],
      "source": [
        "# 演習問題回答\n",
        "with open(\"in/ex2.json\", \"r\", encoding=\"utf-8\") as f:\n",
        "    data = json.load(f)\n",
        "for lecture in data[\"担当科目\"]:\n",
        "    if lecture[\"時限\"] == 2:\n",
        "        print(lecture[\"科目名\"])"
      ]
    },
    {
      "cell_type": "code",
      "execution_count": null,
      "metadata": {
        "id": "N2HQk3j_8I1H"
      },
      "outputs": [],
      "source": [
        "# Bing Web Search APIを利用してWeb検索結果をJSON形式で取得する\n",
        "def search_web(search_term):\n",
        "    SUBSCRIPTION_KEY = \"********************************\" # 取得したキーをここに入力する\n",
        "    search_url = f\"https://api.bing.microsoft.com/v7.0/search\"\n",
        "    params = {\"q\": search_term, \"count\": 50, \"textDecorations\": True, \"textFormat\": \"HTML\"}\n",
        "    headers = {\"Ocp-Apim-Subscription-Key\" : SUBSCRIPTION_KEY} # HTTPリクエストのヘッダにAPIキーを含める\n",
        "    response = requests.get(search_url, headers=headers, params=params) # 実際にリクエストを送る\n",
        "    return response.json()"
      ]
    },
    {
      "cell_type": "code",
      "execution_count": null,
      "metadata": {
        "colab": {
          "base_uri": "https://localhost:8080/"
        },
        "id": "5pU3X_VW8MPz",
        "outputId": "25356aaf-6938-4294-d04e-6a15e71c0fd3"
      },
      "outputs": [],
      "source": [
        "# 神戸に関するWeb検索結果を取得する\n",
        "from pprint import pprint\n",
        "query = \"神戸\"\n",
        "search_results = search_web(query)\n",
        "# 取得したJSON形式のデータを表示\n",
        "pprint(search_results)"
      ]
    },
    {
      "cell_type": "code",
      "execution_count": null,
      "metadata": {
        "colab": {
          "base_uri": "https://localhost:8080/"
        },
        "id": "59921HxS8P0D",
        "outputId": "63d331da-6f7f-478b-9977-832c53f84282"
      },
      "outputs": [],
      "source": [
        "# 1件目と2件目のWeb検索結果のタイトルを表示する\n",
        "\n",
        "print(search_results[\"webPages\"][\"value\"][0][\"name\"])\n",
        "print(search_results[\"webPages\"][\"value\"][1][\"name\"])"
      ]
    },
    {
      "cell_type": "code",
      "execution_count": null,
      "metadata": {
        "colab": {
          "base_uri": "https://localhost:8080/",
          "height": 1000
        },
        "id": "DCotyirt8W_c",
        "outputId": "68442ddc-7836-44f8-b44f-07917d29c56e"
      },
      "outputs": [],
      "source": [
        "# 検索結果をHTMLで表示する\n",
        "\n",
        "rows = \"\\n\".join([\"\"\"<tr>\n",
        "                       <td><a href=\\\"{0}\\\">{1}</a></td>\n",
        "                       <td>{2}</td>\n",
        "                     </tr>\"\"\".format(v[\"url\"], v[\"name\"], v[\"snippet\"])\n",
        "                  for v in search_results[\"webPages\"][\"value\"]])\n",
        "HTML(\"<table>{0}</table>\".format(rows))"
      ]
    }
  ],
  "metadata": {
    "colab": {
      "provenance": []
    },
    "kernelspec": {
      "display_name": "Python 3",
      "name": "python3"
    },
    "language_info": {
      "name": "python"
    }
  },
  "nbformat": 4,
  "nbformat_minor": 0
}
